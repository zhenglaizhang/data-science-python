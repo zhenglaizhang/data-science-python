{
 "cells": [
  {
   "cell_type": "markdown",
   "metadata": {
    "collapsed": true
   },
   "source": [
    "# Prepare env\n",
    "\n",
    "```\n",
    "brew install python3\n",
    "pip3 install ipython jupyter\n",
    "```"
   ]
  },
  {
   "cell_type": "code",
   "execution_count": 1,
   "metadata": {},
   "outputs": [
    {
     "name": "stdout",
     "output_type": "stream",
     "text": [
      "The Zen of Python, by Tim Peters\n\nBeautiful is better than ugly.\nExplicit is better than implicit.\nSimple is better than complex.\nComplex is better than complicated.\nFlat is better than nested.\nSparse is better than dense.\nReadability counts.\nSpecial cases aren't special enough to break the rules.\nAlthough practicality beats purity.\nErrors should never pass silently.\nUnless explicitly silenced.\nIn the face of ambiguity, refuse the temptation to guess.\nThere should be one-- and preferably only one --obvious way to do it.\nAlthough that way may not be obvious at first unless you're Dutch.\nNow is better than never.\nAlthough never is often better than *right* now.\nIf the implementation is hard to explain, it's a bad idea.\nIf the implementation is easy to explain, it may be a good idea.\nNamespaces are one honking great idea -- let's do more of those!\n"
     ]
    }
   ],
   "source": [
    "import this"
   ]
  },
  {
   "cell_type": "code",
   "execution_count": 5,
   "metadata": {},
   "outputs": [
    {
     "name": "stdout",
     "output_type": "stream",
     "text": [
      "1\ni + j == 6\ni + j == 7\ni + j == 8\n2\ni + j == 7\ni + j == 8\ni + j == 9\n3\ni + j == 8\ni + j == 9\ni + j == 10\n4\ni + j == 9\ni + j == 10\ni + j == 11\ndone looping\n"
     ]
    }
   ],
   "source": [
    "x = 1\n",
    "y = 2\n",
    "x + y\n",
    "\n",
    "for i in [1, 2, 3, 4]:\n",
    "    print(i)\n",
    "    for j in [5, 6, 7]:\n",
    "        print('i + j == {}'.format(i + j))\n",
    "\n",
    "print(\"done looping\")"
   ]
  },
  {
   "cell_type": "code",
   "execution_count": 3,
   "metadata": {},
   "outputs": [],
   "source": [
    "list_of_list = [\n",
    "    [1, 2, 3],\n",
    "    [4, 5, 6],\n",
    "    [7, 8, 9]\n",
    "]\n",
    "\n",
    "two_plus_three = 2 + \\\n",
    "    3"
   ]
  },
  {
   "cell_type": "code",
   "execution_count": 11,
   "metadata": {},
   "outputs": [
    {
     "name": "stdout",
     "output_type": "stream",
     "text": [
      "3\n6\nFlag is true!\n46\nFlag is true!\n6\n"
     ]
    }
   ],
   "source": [
    "def add_numbers(x, y, z = None, flag=False):\n",
    "    if (flag):\n",
    "        print(\"Flag is true!\")\n",
    "    if (z == None):\n",
    "        return x + y\n",
    "    else:\n",
    "        return x + y + z\n",
    "\n",
    "print(add_numbers(1, 2))\n",
    "print(add_numbers(1, 2, 3))\n",
    "print(add_numbers(1, 45, flag=True))\n",
    "\n",
    "# assign function to variable\n",
    "add = add_numbers\n",
    "print(add(1,2 ,3, 4)) # 4 is true"
   ]
  },
  {
   "cell_type": "code",
   "execution_count": 16,
   "metadata": {},
   "outputs": [
    {
     "name": "stdout",
     "output_type": "stream",
     "text": [
      "<class 'tuple'>\n<class 'NoneType'>\n<class 'int'>\n<class 'float'>\n<class 'function'>\n"
     ]
    }
   ],
   "source": [
    "x = (1, \"2\", '34', 1.0) # Tuples are an immutable data structure (cannot be altered).\n",
    "for v in [x, None, 1, 1.0, add_numbers]:\n",
    "    print(type(v))"
   ]
  },
  {
   "cell_type": "code",
   "execution_count": 26,
   "metadata": {},
   "outputs": [
    {
     "name": "stdout",
     "output_type": "stream",
     "text": [
      "[1, '1', 2, 'b', 13]\n1\n2\n34\n1.0\n1\n2\n34\n1.0\n[1, 2, 3, 4]\nTrue\n"
     ]
    }
   ],
   "source": [
    "a_list = [1, '1', 2, 'b'] # Lists are a mutable data structure.\n",
    "type(a_list)\n",
    "a_list.append(13)\n",
    "print(a_list)\n",
    "\n",
    "\n",
    "# iterating\n",
    "for item in x:\n",
    "    print(item)\n",
    "    \n",
    "\n",
    "i = 0\n",
    "while (i != len(x)):\n",
    "    print(x[i])\n",
    "    i = i + 1\n",
    "\n",
    "list2 = [1, 2] + [3, 4] # concat 2 lists\n",
    "print(list2)\n",
    "print(1 in list2) # check containization"
   ]
  },
  {
   "cell_type": "code",
   "execution_count": 33,
   "metadata": {},
   "outputs": [
    {
     "name": "stdout",
     "output_type": "stream",
     "text": [
      "1\n[1]\n[1, 2]\n3\n[1, 2]\n[1, 2]\n[2, 3]\n"
     ]
    }
   ],
   "source": [
    "l = [1, 2, 3]\n",
    "print(l[0])\n",
    "print(l[0:1]) # [0, 1) element\n",
    "print(l[0:2]) # [0, 2) elements, first 2 elements\n",
    "print(l[-1]) # last element\n",
    "print(l[-3:-1]) \n",
    "print(l[:2]) # [0, 2)\n",
    "print(l[1:]) # [1, len-1]"
   ]
  },
  {
   "cell_type": "heading",
   "metadata": {},
   "level": 1,
   "source": [
    "string ops"
   ]
  },
  {
   "cell_type": "code",
   "execution_count": 37,
   "metadata": {},
   "outputs": [
    {
     "name": "stdout",
     "output_type": "stream",
     "text": [
      "Zhenglai Zhang\nZhenglaiZhenglaiZhenglai\nTrue\n"
     ]
    },
    {
     "data": {
      "text/plain": [
       "'world'"
      ]
     },
     "execution_count": 37,
     "metadata": {},
     "output_type": "execute_result"
    }
   ],
   "source": [
    "first_name = \"Zhenglai\"\n",
    "last_name = \"Zhang\"\n",
    "print(first_name + ' ' + last_name)\n",
    "print(first_name * 3)\n",
    "print(\"Zhenglai\" in first_name)\n",
    "\n",
    "\"hello world\".split(' ')[0]\n",
    "\"hello world\".split(' ')[-1]"
   ]
  },
  {
   "cell_type": "code",
   "execution_count": 41,
   "metadata": {},
   "outputs": [
    {
     "data": {
      "text/plain": [
       "'hello1'"
      ]
     },
     "execution_count": 41,
     "metadata": {},
     "output_type": "execute_result"
    }
   ],
   "source": [
    "# Make sure you convert objects to strings before concatenating.\n",
    "\n",
    "\n",
    "# 'hello' + 1\n",
    "#\n",
    "#---> 1 'hello' + 1\n",
    "# TypeError: Can't convert 'int' object to str implicitly\n",
    "#\n",
    "\n",
    "'hello' + str(1)"
   ]
  },
  {
   "cell_type": "code",
   "execution_count": 27,
   "metadata": {},
   "outputs": [
    {
     "data": {
      "text/plain": [
       "(1, '2', '34', 1.0)"
      ]
     },
     "execution_count": 27,
     "metadata": {},
     "output_type": "execute_result"
    }
   ],
   "source": [
    "x"
   ]
  },
  {
   "cell_type": "code",
   "execution_count": 10,
   "metadata": {},
   "outputs": [
    {
     "name": "stdout",
     "output_type": "stream",
     "text": [
      "4\n"
     ]
    }
   ],
   "source": [
    "print(len(x))"
   ]
  },
  {
   "cell_type": "code",
   "execution_count": null,
   "outputs": [],
   "source": [
    ""
   ]
  },
  {
   "cell_type": "code",
   "execution_count": null,
   "metadata": {},
   "outputs": [],
   "source": [
    "print(\"content of tuple: {}, {}, {}, {}\".format(x[1], x[2], x[3], x[0]))"
   ]
  },
  {
   "cell_type": "code",
   "execution_count": null,
   "metadata": {},
   "outputs": [],
   "source": [
    ""
   ]
  }
 ],
 "metadata": {
  "kernelspec": {
   "display_name": "Python 2",
   "language": "python",
   "name": "python2"
  },
  "language_info": {
   "codemirror_mode": {
    "name": "ipython",
    "version": 2.0
   },
   "file_extension": ".py",
   "mimetype": "text/x-python",
   "name": "python",
   "nbconvert_exporter": "python",
   "pygments_lexer": "ipython2",
   "version": "2.7.6"
  }
 },
 "nbformat": 4,
 "nbformat_minor": 0
}